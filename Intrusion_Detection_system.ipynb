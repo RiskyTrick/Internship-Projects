{
  "metadata": {
    "kernelspec": {
      "name": "python3",
      "display_name": "Python 3",
      "language": "python"
    },
    "language_info": {
      "name": "python",
      "version": "3.10.12",
      "mimetype": "text/x-python",
      "codemirror_mode": {
        "name": "ipython",
        "version": 3
      },
      "pygments_lexer": "ipython3",
      "nbconvert_exporter": "python",
      "file_extension": ".py"
    },
    "kaggle": {
      "accelerator": "none",
      "dataSources": [
        {
          "sourceId": 6376134,
          "sourceType": "datasetVersion",
          "datasetId": 3674161
        }
      ],
      "dockerImageVersionId": 30635,
      "isInternetEnabled": false,
      "language": "python",
      "sourceType": "notebook",
      "isGpuEnabled": false
    },
    "colab": {
      "name": "Intrusion Detection system",
      "provenance": [],
      "include_colab_link": true
    }
  },
  "nbformat_minor": 0,
  "nbformat": 4,
  "cells": [
    {
      "cell_type": "markdown",
      "metadata": {
        "id": "view-in-github",
        "colab_type": "text"
      },
      "source": [
        "<a href=\"https://colab.research.google.com/github/RiskyTrick/Internship-Projects/blob/master/Intrusion_Detection_system.ipynb\" target=\"_parent\"><img src=\"https://colab.research.google.com/assets/colab-badge.svg\" alt=\"Open In Colab\"/></a>"
      ]
    },
    {
      "source": [
        "\n",
        "# IMPORTANT: RUN THIS CELL IN ORDER TO IMPORT YOUR KAGGLE DATA SOURCES\n",
        "# TO THE CORRECT LOCATION (/kaggle/input) IN YOUR NOTEBOOK,\n",
        "# THEN FEEL FREE TO DELETE THIS CELL.\n",
        "# NOTE: THIS NOTEBOOK ENVIRONMENT DIFFERS FROM KAGGLE'S PYTHON\n",
        "# ENVIRONMENT SO THERE MAY BE MISSING LIBRARIES USED BY YOUR\n",
        "# NOTEBOOK.\n",
        "\n",
        "import os\n",
        "import sys\n",
        "from tempfile import NamedTemporaryFile\n",
        "from urllib.request import urlopen\n",
        "from urllib.parse import unquote, urlparse\n",
        "from urllib.error import HTTPError\n",
        "from zipfile import ZipFile\n",
        "import tarfile\n",
        "import shutil\n",
        "\n",
        "CHUNK_SIZE = 40960\n",
        "DATA_SOURCE_MAPPING = 'network-intrusion-dataset:https%3A%2F%2Fstorage.googleapis.com%2Fkaggle-data-sets%2F3674161%2F6376134%2Fbundle%2Farchive.zip%3FX-Goog-Algorithm%3DGOOG4-RSA-SHA256%26X-Goog-Credential%3Dgcp-kaggle-com%2540kaggle-161607.iam.gserviceaccount.com%252F20240404%252Fauto%252Fstorage%252Fgoog4_request%26X-Goog-Date%3D20240404T031152Z%26X-Goog-Expires%3D259200%26X-Goog-SignedHeaders%3Dhost%26X-Goog-Signature%3D872d66d19c3ce1bf2a0a6d6d292b2d5dcf2ad4b601213152d38dd59af7cb0de782931ea8491772ad8e63fa2d2c9c843306c68d185e81291b2a5176a304b9b29396c904bda03e47480a138205cc197cfd9c7222ef47155a4fd006fdfdb946b1cc92a9fc2f0297c960f76294e3f3881cc0676275a45a079196d4ec2f870a1fce39081be3c5da7f3b27d13437b4eaa2c05f0bc5d3ccda6035595f6a0f3b86be9e88286f126a2c12f841ac277477917a86bcd645647ad7e0c40c904c0a74326ebbd26132b850365a4a8b407a1dc52edb7f3319a60328c832fdde16071231d11afc08687e3291c8bf955f76c2b09b44d17a61421ffdf813e00822d5e4b43742fe3cb9'\n",
        "\n",
        "KAGGLE_INPUT_PATH='/kaggle/input'\n",
        "KAGGLE_WORKING_PATH='/kaggle/working'\n",
        "KAGGLE_SYMLINK='kaggle'\n",
        "\n",
        "!umount /kaggle/input/ 2> /dev/null\n",
        "shutil.rmtree('/kaggle/input', ignore_errors=True)\n",
        "os.makedirs(KAGGLE_INPUT_PATH, 0o777, exist_ok=True)\n",
        "os.makedirs(KAGGLE_WORKING_PATH, 0o777, exist_ok=True)\n",
        "\n",
        "try:\n",
        "  os.symlink(KAGGLE_INPUT_PATH, os.path.join(\"..\", 'input'), target_is_directory=True)\n",
        "except FileExistsError:\n",
        "  pass\n",
        "try:\n",
        "  os.symlink(KAGGLE_WORKING_PATH, os.path.join(\"..\", 'working'), target_is_directory=True)\n",
        "except FileExistsError:\n",
        "  pass\n",
        "\n",
        "for data_source_mapping in DATA_SOURCE_MAPPING.split(','):\n",
        "    directory, download_url_encoded = data_source_mapping.split(':')\n",
        "    download_url = unquote(download_url_encoded)\n",
        "    filename = urlparse(download_url).path\n",
        "    destination_path = os.path.join(KAGGLE_INPUT_PATH, directory)\n",
        "    try:\n",
        "        with urlopen(download_url) as fileres, NamedTemporaryFile() as tfile:\n",
        "            total_length = fileres.headers['content-length']\n",
        "            print(f'Downloading {directory}, {total_length} bytes compressed')\n",
        "            dl = 0\n",
        "            data = fileres.read(CHUNK_SIZE)\n",
        "            while len(data) > 0:\n",
        "                dl += len(data)\n",
        "                tfile.write(data)\n",
        "                done = int(50 * dl / int(total_length))\n",
        "                sys.stdout.write(f\"\\r[{'=' * done}{' ' * (50-done)}] {dl} bytes downloaded\")\n",
        "                sys.stdout.flush()\n",
        "                data = fileres.read(CHUNK_SIZE)\n",
        "            if filename.endswith('.zip'):\n",
        "              with ZipFile(tfile) as zfile:\n",
        "                zfile.extractall(destination_path)\n",
        "            else:\n",
        "              with tarfile.open(tfile.name) as tarfile:\n",
        "                tarfile.extractall(destination_path)\n",
        "            print(f'\\nDownloaded and uncompressed: {directory}')\n",
        "    except HTTPError as e:\n",
        "        print(f'Failed to load (likely expired) {download_url} to path {destination_path}')\n",
        "        continue\n",
        "    except OSError as e:\n",
        "        print(f'Failed to load {download_url} to path {destination_path}')\n",
        "        continue\n",
        "\n",
        "print('Data source import complete.')\n"
      ],
      "metadata": {
        "id": "Jbnux3mZF3ir",
        "outputId": "3bcbdf94-49c0-4723-a393-b4d6938fca87",
        "colab": {
          "base_uri": "https://localhost:8080/"
        }
      },
      "cell_type": "code",
      "outputs": [
        {
          "output_type": "stream",
          "name": "stdout",
          "text": [
            "Downloading network-intrusion-dataset, 240838240 bytes compressed\n",
            "[=====================================             ] 179200000 bytes downloaded"
          ]
        }
      ],
      "execution_count": null
    },
    {
      "cell_type": "code",
      "source": [
        "import pandas as pd\n",
        "import numpy as np"
      ],
      "metadata": {
        "execution": {
          "iopub.status.busy": "2024-02-10T08:51:00.968403Z",
          "iopub.execute_input": "2024-02-10T08:51:00.968945Z",
          "iopub.status.idle": "2024-02-10T08:51:00.976806Z",
          "shell.execute_reply.started": "2024-02-10T08:51:00.968908Z",
          "shell.execute_reply": "2024-02-10T08:51:00.974854Z"
        },
        "trusted": true,
        "id": "GSEoHLA0F3iw"
      },
      "execution_count": null,
      "outputs": []
    },
    {
      "cell_type": "code",
      "source": [
        "df = pd.read_csv('/kaggle/input/network-intrusion-dataset/Wednesday-workingHours.pcap_ISCX.csv')"
      ],
      "metadata": {
        "execution": {
          "iopub.status.busy": "2024-02-10T08:51:00.979713Z",
          "iopub.execute_input": "2024-02-10T08:51:00.980129Z",
          "iopub.status.idle": "2024-02-10T08:51:08.296284Z",
          "shell.execute_reply.started": "2024-02-10T08:51:00.980098Z",
          "shell.execute_reply": "2024-02-10T08:51:08.294899Z"
        },
        "trusted": true,
        "id": "2mRwcthOF3ix"
      },
      "execution_count": null,
      "outputs": []
    },
    {
      "cell_type": "code",
      "source": [
        "df.columns"
      ],
      "metadata": {
        "execution": {
          "iopub.status.busy": "2024-02-10T08:51:08.298078Z",
          "iopub.execute_input": "2024-02-10T08:51:08.298629Z",
          "iopub.status.idle": "2024-02-10T08:51:08.308281Z",
          "shell.execute_reply.started": "2024-02-10T08:51:08.298594Z",
          "shell.execute_reply": "2024-02-10T08:51:08.306683Z"
        },
        "trusted": true,
        "id": "atOJsuHNF3ix"
      },
      "execution_count": null,
      "outputs": []
    },
    {
      "cell_type": "code",
      "source": [
        "df.head()"
      ],
      "metadata": {
        "execution": {
          "iopub.status.busy": "2024-02-10T08:51:08.310016Z",
          "iopub.execute_input": "2024-02-10T08:51:08.310642Z",
          "iopub.status.idle": "2024-02-10T08:51:08.344091Z",
          "shell.execute_reply.started": "2024-02-10T08:51:08.310603Z",
          "shell.execute_reply": "2024-02-10T08:51:08.342588Z"
        },
        "trusted": true,
        "id": "j05ApboiF3ix"
      },
      "execution_count": null,
      "outputs": []
    },
    {
      "cell_type": "code",
      "source": [
        "df.isnull().sum()"
      ],
      "metadata": {
        "execution": {
          "iopub.status.busy": "2024-02-10T08:51:08.347809Z",
          "iopub.execute_input": "2024-02-10T08:51:08.348234Z",
          "iopub.status.idle": "2024-02-10T08:51:08.498376Z",
          "shell.execute_reply.started": "2024-02-10T08:51:08.348202Z",
          "shell.execute_reply": "2024-02-10T08:51:08.49699Z"
        },
        "trusted": true,
        "id": "Q3HY2YxJF3iy"
      },
      "execution_count": null,
      "outputs": []
    },
    {
      "cell_type": "code",
      "source": [
        "df.info()"
      ],
      "metadata": {
        "execution": {
          "iopub.status.busy": "2024-02-10T08:51:08.500378Z",
          "iopub.execute_input": "2024-02-10T08:51:08.500796Z",
          "iopub.status.idle": "2024-02-10T08:51:08.673748Z",
          "shell.execute_reply.started": "2024-02-10T08:51:08.500762Z",
          "shell.execute_reply": "2024-02-10T08:51:08.672163Z"
        },
        "trusted": true,
        "id": "vyveX4-GF3iy"
      },
      "execution_count": null,
      "outputs": []
    },
    {
      "cell_type": "code",
      "source": [
        "df"
      ],
      "metadata": {
        "scrolled": true,
        "execution": {
          "iopub.status.busy": "2024-02-10T08:51:08.675861Z",
          "iopub.execute_input": "2024-02-10T08:51:08.676417Z",
          "iopub.status.idle": "2024-02-10T08:51:08.849793Z",
          "shell.execute_reply.started": "2024-02-10T08:51:08.676368Z",
          "shell.execute_reply": "2024-02-10T08:51:08.848143Z"
        },
        "trusted": true,
        "id": "-3QUuyAdF3iz"
      },
      "execution_count": null,
      "outputs": []
    },
    {
      "cell_type": "code",
      "source": [],
      "metadata": {
        "trusted": true,
        "id": "dP77snYhF3iz"
      },
      "execution_count": null,
      "outputs": []
    },
    {
      "cell_type": "code",
      "source": [
        "\n",
        "from sklearn.preprocessing import LabelEncoder"
      ],
      "metadata": {
        "execution": {
          "iopub.status.busy": "2024-02-10T08:51:08.851246Z",
          "iopub.execute_input": "2024-02-10T08:51:08.852034Z",
          "iopub.status.idle": "2024-02-10T08:51:09.574005Z",
          "shell.execute_reply.started": "2024-02-10T08:51:08.851996Z",
          "shell.execute_reply": "2024-02-10T08:51:09.572468Z"
        },
        "trusted": true,
        "id": "KbjEwbmrF3i0"
      },
      "execution_count": null,
      "outputs": []
    },
    {
      "cell_type": "code",
      "source": [
        "encoder = LabelEncoder()\n",
        "df[' Label']=encoder.fit_transform(df[' Label'])"
      ],
      "metadata": {
        "execution": {
          "iopub.status.busy": "2024-02-10T08:51:09.575675Z",
          "iopub.execute_input": "2024-02-10T08:51:09.576074Z",
          "iopub.status.idle": "2024-02-10T08:51:09.809675Z",
          "shell.execute_reply.started": "2024-02-10T08:51:09.576036Z",
          "shell.execute_reply": "2024-02-10T08:51:09.808135Z"
        },
        "trusted": true,
        "id": "wzW1k_D1F3i0"
      },
      "execution_count": null,
      "outputs": []
    },
    {
      "cell_type": "code",
      "source": [
        "df.head()"
      ],
      "metadata": {
        "execution": {
          "iopub.status.busy": "2024-02-10T08:51:09.811251Z",
          "iopub.execute_input": "2024-02-10T08:51:09.811667Z",
          "iopub.status.idle": "2024-02-10T08:51:09.840907Z",
          "shell.execute_reply.started": "2024-02-10T08:51:09.811634Z",
          "shell.execute_reply": "2024-02-10T08:51:09.838841Z"
        },
        "trusted": true,
        "id": "2wak1vjcF3i0"
      },
      "execution_count": null,
      "outputs": []
    },
    {
      "cell_type": "markdown",
      "source": [
        "# here 0 = benign ,1 = dos golden eye,2= dos hulk ,3= dos slowhttptest"
      ],
      "metadata": {
        "id": "ruY9cY_CF3i1"
      }
    },
    {
      "cell_type": "code",
      "source": [
        "from sklearn.feature_selection import SelectKBest,chi2\n",
        "from sklearn.model_selection import train_test_split"
      ],
      "metadata": {
        "execution": {
          "iopub.status.busy": "2024-02-10T08:51:09.842436Z",
          "iopub.execute_input": "2024-02-10T08:51:09.842886Z",
          "iopub.status.idle": "2024-02-10T08:51:10.191132Z",
          "shell.execute_reply.started": "2024-02-10T08:51:09.842845Z",
          "shell.execute_reply": "2024-02-10T08:51:10.189823Z"
        },
        "trusted": true,
        "id": "z7S9rz8PF3i3"
      },
      "execution_count": null,
      "outputs": []
    },
    {
      "cell_type": "code",
      "source": [
        "Target= ' Label'\n",
        "X = df.loc[:, df.columns != Target]\n",
        "y = df.loc[:,Target]"
      ],
      "metadata": {
        "execution": {
          "iopub.status.busy": "2024-02-10T08:51:10.192921Z",
          "iopub.execute_input": "2024-02-10T08:51:10.193375Z",
          "iopub.status.idle": "2024-02-10T08:51:10.346549Z",
          "shell.execute_reply.started": "2024-02-10T08:51:10.193335Z",
          "shell.execute_reply": "2024-02-10T08:51:10.345003Z"
        },
        "trusted": true,
        "id": "fTAWsf4tF3i3"
      },
      "execution_count": null,
      "outputs": []
    },
    {
      "cell_type": "code",
      "source": [
        "from sklearn.impute import SimpleImputer\n",
        "lower_bound=0\n",
        "upper_bound=100\n",
        "X_clipped = np.clip(X, lower_bound, upper_bound)\n",
        "imputer = SimpleImputer(strategy='mean')\n",
        "X_imputed = imputer.fit_transform(X_clipped)"
      ],
      "metadata": {
        "execution": {
          "iopub.status.busy": "2024-02-10T08:51:10.348437Z",
          "iopub.execute_input": "2024-02-10T08:51:10.348918Z",
          "iopub.status.idle": "2024-02-10T08:51:13.84942Z",
          "shell.execute_reply.started": "2024-02-10T08:51:10.348881Z",
          "shell.execute_reply": "2024-02-10T08:51:13.848102Z"
        },
        "trusted": true,
        "id": "e6yoCB7IF3i3"
      },
      "execution_count": null,
      "outputs": []
    },
    {
      "cell_type": "code",
      "source": [
        "selector = SelectKBest(score_func=chi2, k=10)\n",
        "selector.fit(X_imputed, y)\n",
        "selected_features = selector.get_support(indices=True)\n",
        "X_new = X_imputed[:, selected_features]\n",
        "X_new_train, X_test, y_train, y_test = train_test_split(X_new, y, test_size=0.25)"
      ],
      "metadata": {
        "execution": {
          "iopub.status.busy": "2024-02-10T08:51:13.856014Z",
          "iopub.execute_input": "2024-02-10T08:51:13.856472Z",
          "iopub.status.idle": "2024-02-10T08:51:14.670352Z",
          "shell.execute_reply.started": "2024-02-10T08:51:13.856418Z",
          "shell.execute_reply": "2024-02-10T08:51:14.668944Z"
        },
        "trusted": true,
        "id": "u6VrrmLxF3i3"
      },
      "execution_count": null,
      "outputs": []
    },
    {
      "cell_type": "code",
      "source": [
        "print(selected_features)"
      ],
      "metadata": {
        "execution": {
          "iopub.status.busy": "2024-02-10T08:51:14.672046Z",
          "iopub.execute_input": "2024-02-10T08:51:14.672477Z",
          "iopub.status.idle": "2024-02-10T08:51:14.679343Z",
          "shell.execute_reply.started": "2024-02-10T08:51:14.67242Z",
          "shell.execute_reply": "2024-02-10T08:51:14.677996Z"
        },
        "trusted": true,
        "id": "g2qLgmg6F3i4"
      },
      "execution_count": null,
      "outputs": []
    },
    {
      "cell_type": "code",
      "source": [
        "X_new"
      ],
      "metadata": {
        "execution": {
          "iopub.status.busy": "2024-02-10T08:51:14.681727Z",
          "iopub.execute_input": "2024-02-10T08:51:14.682437Z",
          "iopub.status.idle": "2024-02-10T08:51:14.695827Z",
          "shell.execute_reply.started": "2024-02-10T08:51:14.682378Z",
          "shell.execute_reply": "2024-02-10T08:51:14.694818Z"
        },
        "trusted": true,
        "id": "7g42EP2RF3i4"
      },
      "execution_count": null,
      "outputs": []
    },
    {
      "cell_type": "code",
      "source": [
        "y.unique()"
      ],
      "metadata": {
        "execution": {
          "iopub.status.busy": "2024-02-10T08:51:14.69732Z",
          "iopub.execute_input": "2024-02-10T08:51:14.698176Z",
          "iopub.status.idle": "2024-02-10T08:51:14.72036Z",
          "shell.execute_reply.started": "2024-02-10T08:51:14.698133Z",
          "shell.execute_reply": "2024-02-10T08:51:14.718811Z"
        },
        "trusted": true,
        "id": "GfuNFJW7F3i4"
      },
      "execution_count": null,
      "outputs": []
    },
    {
      "cell_type": "code",
      "source": [
        "from sklearn.tree import DecisionTreeRegressor\n",
        "dtr=DecisionTreeRegressor()\n",
        "dtr.fit(X_new_train,y_train)"
      ],
      "metadata": {
        "execution": {
          "iopub.status.busy": "2024-02-10T08:51:14.722408Z",
          "iopub.execute_input": "2024-02-10T08:51:14.723405Z",
          "iopub.status.idle": "2024-02-10T08:51:16.353887Z",
          "shell.execute_reply.started": "2024-02-10T08:51:14.723353Z",
          "shell.execute_reply": "2024-02-10T08:51:16.352641Z"
        },
        "trusted": true,
        "id": "N5YiXMBJF3i4"
      },
      "execution_count": null,
      "outputs": []
    },
    {
      "cell_type": "code",
      "source": [
        "y_pred=dtr.predict(X_test)"
      ],
      "metadata": {
        "execution": {
          "iopub.status.busy": "2024-02-10T08:51:16.355811Z",
          "iopub.execute_input": "2024-02-10T08:51:16.356959Z",
          "iopub.status.idle": "2024-02-10T08:51:16.390621Z",
          "shell.execute_reply.started": "2024-02-10T08:51:16.356896Z",
          "shell.execute_reply": "2024-02-10T08:51:16.388886Z"
        },
        "trusted": true,
        "id": "j3Qc96sNF3i4"
      },
      "execution_count": null,
      "outputs": []
    },
    {
      "cell_type": "code",
      "source": [
        "y_pred[:10]"
      ],
      "metadata": {
        "execution": {
          "iopub.status.busy": "2024-02-10T08:51:16.392569Z",
          "iopub.execute_input": "2024-02-10T08:51:16.394279Z",
          "iopub.status.idle": "2024-02-10T08:51:16.403398Z",
          "shell.execute_reply.started": "2024-02-10T08:51:16.394234Z",
          "shell.execute_reply": "2024-02-10T08:51:16.401932Z"
        },
        "trusted": true,
        "id": "qDzw9sBmF3i4"
      },
      "execution_count": null,
      "outputs": []
    },
    {
      "cell_type": "code",
      "source": [
        "y_test[:10]"
      ],
      "metadata": {
        "execution": {
          "iopub.status.busy": "2024-02-10T08:51:16.405194Z",
          "iopub.execute_input": "2024-02-10T08:51:16.405614Z",
          "iopub.status.idle": "2024-02-10T08:51:16.420316Z",
          "shell.execute_reply.started": "2024-02-10T08:51:16.405581Z",
          "shell.execute_reply": "2024-02-10T08:51:16.418572Z"
        },
        "trusted": true,
        "id": "dzx1wOV4F3i5"
      },
      "execution_count": null,
      "outputs": []
    },
    {
      "cell_type": "code",
      "source": [
        "from sklearn.metrics import mean_squared_error\n"
      ],
      "metadata": {
        "execution": {
          "iopub.status.busy": "2024-02-10T08:51:16.422951Z",
          "iopub.execute_input": "2024-02-10T08:51:16.423504Z",
          "iopub.status.idle": "2024-02-10T08:51:16.434933Z",
          "shell.execute_reply.started": "2024-02-10T08:51:16.423443Z",
          "shell.execute_reply": "2024-02-10T08:51:16.433146Z"
        },
        "trusted": true,
        "id": "qzfVTwlVF3i5"
      },
      "execution_count": null,
      "outputs": []
    },
    {
      "cell_type": "code",
      "source": [
        "mean_squared_error( y_test,y_pred)"
      ],
      "metadata": {
        "trusted": true,
        "id": "Lj7V1925F3i5"
      },
      "execution_count": null,
      "outputs": []
    },
    {
      "cell_type": "code",
      "source": [
        "from sklearn.ensemble import RandomForestRegressor"
      ],
      "metadata": {
        "execution": {
          "iopub.status.busy": "2024-02-10T08:51:16.453286Z",
          "iopub.execute_input": "2024-02-10T08:51:16.453788Z",
          "iopub.status.idle": "2024-02-10T08:51:16.547036Z",
          "shell.execute_reply.started": "2024-02-10T08:51:16.453753Z",
          "shell.execute_reply": "2024-02-10T08:51:16.545091Z"
        },
        "trusted": true,
        "id": "ocz3Y7l8F3i-"
      },
      "execution_count": null,
      "outputs": []
    },
    {
      "cell_type": "code",
      "source": [
        "rf_reg=RandomForestRegressor(n_estimators=500 )\n",
        "rf_reg.fit(X_new_train,y_train)"
      ],
      "metadata": {
        "execution": {
          "iopub.status.busy": "2024-02-10T09:09:26.058321Z",
          "iopub.execute_input": "2024-02-10T09:09:26.058802Z"
        },
        "trusted": true,
        "id": "-z2AxqnrF3i-"
      },
      "execution_count": null,
      "outputs": []
    },
    {
      "cell_type": "code",
      "source": [
        "y_pred=rf_reg.predict(X_test)"
      ],
      "metadata": {
        "trusted": true,
        "id": "9YquQWuYF3i_"
      },
      "execution_count": null,
      "outputs": []
    },
    {
      "cell_type": "code",
      "source": [
        "y_pred"
      ],
      "metadata": {
        "trusted": true,
        "id": "HJhKIr0lF3i_"
      },
      "execution_count": null,
      "outputs": []
    },
    {
      "cell_type": "code",
      "source": [
        "y_pred = pd.DataFrame(data=y_pred,columns=['pred'])\n",
        "y_pred"
      ],
      "metadata": {
        "execution": {
          "iopub.status.busy": "2024-02-10T09:09:26.039506Z",
          "iopub.execute_input": "2024-02-10T09:09:26.04002Z",
          "iopub.status.idle": "2024-02-10T09:09:26.056549Z",
          "shell.execute_reply.started": "2024-02-10T09:09:26.03995Z",
          "shell.execute_reply": "2024-02-10T09:09:26.054891Z"
        },
        "trusted": true,
        "id": "2KSSkLhaF3jA"
      },
      "execution_count": null,
      "outputs": []
    },
    {
      "cell_type": "code",
      "source": [
        "y_test"
      ],
      "metadata": {
        "execution": {
          "iopub.status.busy": "2024-02-10T09:09:26.022206Z",
          "iopub.execute_input": "2024-02-10T09:09:26.022798Z",
          "iopub.status.idle": "2024-02-10T09:09:26.03732Z",
          "shell.execute_reply.started": "2024-02-10T09:09:26.02271Z",
          "shell.execute_reply": "2024-02-10T09:09:26.035711Z"
        },
        "trusted": true,
        "id": "zzkpzZjRF3jA"
      },
      "execution_count": null,
      "outputs": []
    },
    {
      "cell_type": "code",
      "source": [
        "print(mean_squared_error(y_test,y_pred))"
      ],
      "metadata": {
        "execution": {
          "iopub.status.busy": "2024-02-10T09:09:26.005202Z",
          "iopub.execute_input": "2024-02-10T09:09:26.005826Z",
          "iopub.status.idle": "2024-02-10T09:09:26.020169Z",
          "shell.execute_reply.started": "2024-02-10T09:09:26.005773Z",
          "shell.execute_reply": "2024-02-10T09:09:26.018551Z"
        },
        "trusted": true,
        "id": "U0fCaphXF3jA"
      },
      "execution_count": null,
      "outputs": []
    }
  ]
}